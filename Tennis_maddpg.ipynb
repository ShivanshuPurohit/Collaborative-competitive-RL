{
 "cells": [
  {
   "cell_type": "markdown",
   "metadata": {},
   "source": [
    "# Collaboration and Competition\n",
    "\n",
    "---\n",
    "\n",
    "You are welcome to use this coding environment to train your agent for the project.  Follow the instructions below to get started!\n",
    "\n",
    "### 1. Start the Environment\n",
    "\n",
    "Run the next code cell to install a few packages.  This line will take a few minutes to run!"
   ]
  },
  {
   "cell_type": "code",
   "execution_count": 1,
   "metadata": {},
   "outputs": [
    {
     "name": "stdout",
     "output_type": "stream",
     "text": [
      "\u001b[31mtensorflow 1.7.1 has requirement numpy>=1.13.3, but you'll have numpy 1.12.1 which is incompatible.\u001b[0m\r\n",
      "\u001b[31mipython 6.5.0 has requirement prompt-toolkit<2.0.0,>=1.0.15, but you'll have prompt-toolkit 3.0.5 which is incompatible.\u001b[0m\r\n"
     ]
    }
   ],
   "source": [
    "!pip -q install ./python"
   ]
  },
  {
   "cell_type": "markdown",
   "metadata": {},
   "source": [
    "The environment is already saved in the Workspace and can be accessed at the file path provided below. "
   ]
  },
  {
   "cell_type": "code",
   "execution_count": 2,
   "metadata": {},
   "outputs": [
    {
     "name": "stderr",
     "output_type": "stream",
     "text": [
      "INFO:unityagents:\n",
      "'Academy' started successfully!\n",
      "Unity Academy name: Academy\n",
      "        Number of Brains: 1\n",
      "        Number of External Brains : 1\n",
      "        Lesson number : 0\n",
      "        Reset Parameters :\n",
      "\t\t\n",
      "Unity brain name: TennisBrain\n",
      "        Number of Visual Observations (per agent): 0\n",
      "        Vector Observation space type: continuous\n",
      "        Vector Observation space size (per agent): 8\n",
      "        Number of stacked Vector Observation: 3\n",
      "        Vector Action space type: continuous\n",
      "        Vector Action space size (per agent): 2\n",
      "        Vector Action descriptions: , \n"
     ]
    }
   ],
   "source": [
    "from unityagents import UnityEnvironment\n",
    "import numpy as np\n",
    "\n",
    "env = UnityEnvironment(file_name=\"/data/Tennis_Linux_NoVis/Tennis\")"
   ]
  },
  {
   "cell_type": "markdown",
   "metadata": {},
   "source": [
    "Environments contain **_brains_** which are responsible for deciding the actions of their associated agents. Here we check for the first brain available, and set it as the default brain we will be controlling from Python."
   ]
  },
  {
   "cell_type": "code",
   "execution_count": 3,
   "metadata": {},
   "outputs": [],
   "source": [
    "# get the default brain\n",
    "brain_name = env.brain_names[0]\n",
    "brain = env.brains[brain_name]"
   ]
  },
  {
   "cell_type": "markdown",
   "metadata": {},
   "source": [
    "### 2. Examine the State and Action Spaces\n",
    "\n",
    "Run the code cell below to print some information about the environment."
   ]
  },
  {
   "cell_type": "code",
   "execution_count": 4,
   "metadata": {},
   "outputs": [
    {
     "name": "stdout",
     "output_type": "stream",
     "text": [
      "Number of agents: 2\n",
      "Size of each action: 2\n",
      "There are 2 agents. Each observes a state with length: 24\n",
      "The state for the first agent looks like: [ 0.          0.          0.          0.          0.          0.          0.\n",
      "  0.          0.          0.          0.          0.          0.          0.\n",
      "  0.          0.         -6.65278625 -1.5        -0.          0.\n",
      "  6.83172083  6.         -0.          0.        ]\n"
     ]
    }
   ],
   "source": [
    "# reset the environment\n",
    "env_info = env.reset(train_mode=True)[brain_name]\n",
    "\n",
    "# number of agents \n",
    "num_agents = len(env_info.agents)\n",
    "print('Number of agents:', num_agents)\n",
    "\n",
    "# size of each action\n",
    "action_size = brain.vector_action_space_size\n",
    "print('Size of each action:', action_size)\n",
    "\n",
    "# examine the state space \n",
    "states = env_info.vector_observations\n",
    "state_size = states.shape[1]\n",
    "print('There are {} agents. Each observes a state with length: {}'.format(states.shape[0], state_size))\n",
    "print('The state for the first agent looks like:', states[0])"
   ]
  },
  {
   "cell_type": "markdown",
   "metadata": {},
   "source": [
    "### 3. Take Random Actions in the Environment\n",
    "\n",
    "In the next code cell, you will learn how to use the Python API to control the agent and receive feedback from the environment.\n",
    "\n",
    "Note that **in this coding environment, you will not be able to watch the agents while they are training**, and you should set `train_mode=True` to restart the environment."
   ]
  },
  {
   "cell_type": "code",
   "execution_count": 5,
   "metadata": {},
   "outputs": [
    {
     "name": "stdout",
     "output_type": "stream",
     "text": [
      "Total score (averaged over agents) this episode: -0.004999999888241291\n",
      "Total score (averaged over agents) this episode: -0.004999999888241291\n",
      "Total score (averaged over agents) this episode: -0.004999999888241291\n",
      "Total score (averaged over agents) this episode: -0.004999999888241291\n",
      "Total score (averaged over agents) this episode: -0.004999999888241291\n"
     ]
    }
   ],
   "source": [
    "for i in range(5):                                         # play game for 5 episodes\n",
    "    env_info = env.reset(train_mode=False)[brain_name]     # reset the environment    \n",
    "    states = env_info.vector_observations                  # get the current state (for each agent)\n",
    "    scores = np.zeros(num_agents)                          # initialize the score (for each agent)\n",
    "    while True:\n",
    "        actions = np.random.randn(num_agents, action_size) # select an action (for each agent)\n",
    "        actions = np.clip(actions, -1, 1)                  # all actions between -1 and 1\n",
    "        env_info = env.step(actions)[brain_name]           # send all actions to tne environment\n",
    "        next_states = env_info.vector_observations         # get next state (for each agent)\n",
    "        rewards = env_info.rewards                         # get reward (for each agent)\n",
    "        dones = env_info.local_done                        # see if episode finished\n",
    "        scores += env_info.rewards                         # update the score (for each agent)\n",
    "        states = next_states                               # roll over states to next time step\n",
    "        if np.any(dones):                                  # exit loop if episode finished\n",
    "            break\n",
    "    print('Total score (averaged over agents) this episode: {}'.format(np.mean(scores)))"
   ]
  },
  {
   "cell_type": "markdown",
   "metadata": {},
   "source": [
    "When finished, you can close the environment."
   ]
  },
  {
   "cell_type": "markdown",
   "metadata": {},
   "source": [
    "### 4. It's Your Turn!\n",
    "\n",
    "Now it's your turn to train your own agent to solve the environment!  A few **important notes**:\n",
    "- When training the environment, set `train_mode=True`, so that the line for resetting the environment looks like the following:\n",
    "```python\n",
    "env_info = env.reset(train_mode=True)[brain_name]\n",
    "```\n",
    "- To structure your work, you're welcome to work directly in this Jupyter notebook, or you might like to start over with a new file!  You can see the list of files in the workspace by clicking on **_Jupyter_** in the top left corner of the notebook.\n",
    "- In this coding environment, you will not be able to watch the agents while they are training.  However, **_after training the agents_**, you can download the saved model weights to watch the agents on your own machine! "
   ]
  },
  {
   "cell_type": "code",
   "execution_count": 6,
   "metadata": {},
   "outputs": [],
   "source": [
    "import sys\n",
    "import os\n",
    "\n",
    "sys.path.append(os.path.abspath('python/'))\n",
    "\n",
    "from maddpg_agent import maddpg_agent\n",
    "maddpg = maddpg_agent() \n",
    "\n",
    "## Save model weights to file\n",
    "def save_weights(dir):\n",
    "    for i in range(num_agents):\n",
    "        torch.save(maddpg.agents[i].actor_local.state_dict(),                     \n",
    "              os.path.join(dir, 'checkpoint_actor_{}.pth'.format(i)) )\n",
    "        torch.save(maddpg.agents[i].critic_local.state_dict(), \n",
    "              os.path.join(dir, 'checkpoint_critic_{}.pth'.format(i)) )"
   ]
  },
  {
   "cell_type": "code",
   "execution_count": 7,
   "metadata": {},
   "outputs": [
    {
     "name": "stdout",
     "output_type": "stream",
     "text": [
      "Episode: 50, Score: -0.0050, \tAverage Score: -0.0050, Time: 00:00:06 \n",
      "Episode: 100, Score: -0.0050, \tAverage Score: -0.0050, Time: 00:00:21 \n",
      "Episode: 150, Score: -0.0050, \tAverage Score: -0.0050, Time: 00:00:37 \n",
      "Episode: 200, Score: -0.0050, \tAverage Score: -0.0050, Time: 00:00:52 \n",
      "Episode: 250, Score: -0.0050, \tAverage Score: -0.0050, Time: 00:01:08 \n",
      "Episode: 300, Score: -0.0050, \tAverage Score: -0.0050, Time: 00:01:24 \n",
      "Episode: 350, Score: -0.0050, \tAverage Score: -0.0050, Time: 00:01:40 \n",
      "Episode: 400, Score: -0.0050, \tAverage Score: 0.0045, Time: 00:02:04 \n",
      "Episode: 450, Score: -0.0050, \tAverage Score: 0.0095, Time: 00:02:26 \n",
      "Episode: 500, Score: 0.0450, \tAverage Score: 0.0055, Time: 00:02:46 \n",
      "Episode: 550, Score: -0.0050, \tAverage Score: 0.0025, Time: 00:03:03 \n",
      "Episode: 600, Score: -0.0050, \tAverage Score: 0.0005, Time: 00:03:21 \n",
      "Episode: 650, Score: 0.0450, \tAverage Score: 0.0010, Time: 00:03:39 \n",
      "Episode: 700, Score: -0.0050, \tAverage Score: -0.0010, Time: 00:03:55 \n",
      "Episode: 750, Score: -0.0050, \tAverage Score: -0.0020, Time: 00:04:12 \n",
      "Episode: 800, Score: -0.0050, \tAverage Score: 0.0000, Time: 00:04:31 \n",
      "Episode: 850, Score: -0.0050, \tAverage Score: 0.0000, Time: 00:04:48 \n",
      "Episode: 900, Score: -0.0050, \tAverage Score: -0.0010, Time: 00:05:05 \n",
      "Episode: 950, Score: -0.0050, \tAverage Score: 0.0020, Time: 00:05:24 \n",
      "Episode: 1000, Score: -0.0050, \tAverage Score: 0.0035, Time: 00:05:43 \n",
      "Episode: 1050, Score: -0.0050, \tAverage Score: 0.0025, Time: 00:06:01 \n",
      "Episode: 1100, Score: -0.0050, \tAverage Score: 0.0020, Time: 00:06:20 \n",
      "Episode: 1150, Score: -0.0050, \tAverage Score: 0.0025, Time: 00:06:39 \n",
      "Episode: 1200, Score: -0.0050, \tAverage Score: 0.0020, Time: 00:06:58 \n",
      "Episode: 1250, Score: 0.0450, \tAverage Score: 0.0040, Time: 00:07:18 \n",
      "Episode: 1300, Score: -0.0050, \tAverage Score: 0.0065, Time: 00:07:39 \n",
      "Episode: 1350, Score: 0.0450, \tAverage Score: 0.0180, Time: 00:08:09 \n",
      "Episode: 1400, Score: -0.0050, \tAverage Score: 0.0210, Time: 00:08:31 \n",
      "Episode: 1450, Score: -0.0050, \tAverage Score: 0.0235, Time: 00:09:05 \n",
      "Episode: 1500, Score: -0.0050, \tAverage Score: 0.0215, Time: 00:09:26 \n",
      "Episode: 1550, Score: -0.0050, \tAverage Score: 0.0050, Time: 00:09:44 \n",
      "Episode: 1600, Score: -0.0050, \tAverage Score: 0.0055, Time: 00:10:06 \n",
      "Episode: 1650, Score: 0.0450, \tAverage Score: 0.0130, Time: 00:10:31 \n",
      "Episode: 1700, Score: -0.0050, \tAverage Score: 0.0120, Time: 00:10:52 \n",
      "Episode: 1750, Score: -0.0050, \tAverage Score: 0.0075, Time: 00:11:13 \n",
      "Episode: 1800, Score: 0.0450, \tAverage Score: 0.0100, Time: 00:11:36 \n",
      "Episode: 1850, Score: -0.0050, \tAverage Score: 0.0060, Time: 00:11:54 \n",
      "Episode: 1900, Score: -0.0050, \tAverage Score: -0.0005, Time: 00:12:12 \n",
      "Episode: 1950, Score: -0.0050, \tAverage Score: 0.0115, Time: 00:12:40 \n",
      "Episode: 2000, Score: -0.0050, \tAverage Score: 0.0190, Time: 00:13:03 \n",
      "Episode: 2050, Score: -0.0050, \tAverage Score: 0.0210, Time: 00:13:34 \n",
      "Episode: 2100, Score: 0.0450, \tAverage Score: 0.0190, Time: 00:13:57 \n",
      "Episode: 2150, Score: -0.0050, \tAverage Score: 0.0215, Time: 00:14:28 \n",
      "Episode: 2200, Score: 0.0950, \tAverage Score: 0.0605, Time: 00:15:22 \n",
      "Episode: 2250, Score: 0.0450, \tAverage Score: 0.0705, Time: 00:16:00 \n",
      "Episode: 2300, Score: 0.0450, \tAverage Score: 0.0550, Time: 00:16:40 \n",
      "Episode: 2350, Score: 0.0450, \tAverage Score: 0.0670, Time: 00:17:29 \n",
      "Episode: 2400, Score: 0.0450, \tAverage Score: 0.0720, Time: 00:18:14 \n",
      "Episode: 2450, Score: 0.2450, \tAverage Score: 0.0680, Time: 00:19:01 \n",
      "Episode: 2500, Score: 0.0450, \tAverage Score: 0.0720, Time: 00:19:50 \n",
      "Episode: 2550, Score: 0.1450, \tAverage Score: 0.0670, Time: 00:20:31 \n",
      "Episode: 2600, Score: -0.0050, \tAverage Score: 0.0670, Time: 00:21:19 \n",
      "Episode: 2650, Score: 0.1450, \tAverage Score: 0.0890, Time: 00:22:19 \n",
      "Episode: 2700, Score: 0.0950, \tAverage Score: 0.1065, Time: 00:23:24 \n",
      "Episode: 2750, Score: 2.6000, \tAverage Score: 0.3097, Time: 00:27:27 \n",
      "\n",
      "*** Environment solved in 2761 episodes!\tAverage Score: 0.52 ***\n",
      "\n"
     ]
    }
   ],
   "source": [
    "from collections import deque\n",
    "import torch\n",
    "import random\n",
    "import os\n",
    "import time\n",
    "\n",
    "def train(maddpg, env, dir_chkpoints, n_episodes=1000, save_every=50):\n",
    "    \"\"\"Training loop helper for running the environment using the MADDPG algorithm.\n",
    "    Params\n",
    "    ======\n",
    "        maddpg: instance of maddpg_agent wrapper class\n",
    "        env (UnityEnvironment): instance of Unity environment for training\n",
    "        dir_chkpoints: directory to save model weights\n",
    "        n_episodes (int): number of episodes to train for\n",
    "        save_every (int): frequency to save model weights\n",
    "    \"\"\"\n",
    "    \n",
    "    solved = False\n",
    "    scores_total = []\n",
    "    scores_deque = deque(maxlen=100)\n",
    "    scores_global = []\n",
    "    best_score = 0.0\n",
    "    time_start = time.time()\n",
    "    \n",
    "    # Environment information\n",
    "    brain_name = env.brain_names[0]\n",
    "\n",
    "    # Used for learning period to update the model weights\n",
    "    global_step_number = 0\n",
    "    \n",
    "    for i_episode in range(1, n_episodes+1):\n",
    "        \n",
    "        env_info = env.reset(train_mode=True)[brain_name]\n",
    "        states = env_info.vector_observations\n",
    "                    \n",
    "        scores = np.zeros(num_agents)\n",
    "        maddpg.reset()\n",
    "\n",
    "        while True:\n",
    "            actions = maddpg.act(states)\n",
    "\n",
    "            env_info = env.step(actions)[brain_name]\n",
    "            next_states = env_info.vector_observations\n",
    "            rewards = env_info.rewards\n",
    "            dones = env_info.local_done\n",
    "            \n",
    "            global_step_number += 1\n",
    "            maddpg.step(states, actions, rewards, next_states, dones, global_step_number)\n",
    "\n",
    "            scores += rewards\n",
    "            states = next_states\n",
    "\n",
    "            if np.any(dones):\n",
    "                break\n",
    "        \n",
    "        mean_score = np.mean(scores) # mean on 2 agents\n",
    "        scores_total.append(mean_score)\n",
    "        scores_deque.append(mean_score) # mean on 2 agents for 100 episodes\n",
    "        score_average_100epis = np.mean(scores_deque) # value = mean on 100 episodes \n",
    "        scores_global.append(score_average_100epis) # \n",
    "        \n",
    "        print_every = 50\n",
    "        if i_episode % print_every == 0:\n",
    "            s = (int)(time.time() - time_start)\n",
    "            print('Episode: {}, Score: {:.4f}, \\tAverage Score: {:.4f}, Time: {:02}:{:02}:{:02} '\\\n",
    "                 .format(i_episode, mean_score,  score_average_100epis, s//3600, s%3600//60, s%60))\n",
    "\n",
    "        if i_episode % save_every == 0 and solved:\n",
    "            # Only save these weights if they are better than the ones previously saved\n",
    "            if score_average_100epis > best_score:\n",
    "                best_score = score_average_100epis\n",
    "                save_weights(dir_chkpoints)\n",
    "                s = (int)(time.time() - time_start) \n",
    "                print('*** Episode {}\\tAverage Score: {:.2f}, Time: {:02}:{:02}:{:02} ***\\n '\\\n",
    "                     .format(i_episode, np.mean(scores_deque), s//3600, s%3600//60, s%60))  \n",
    "        \n",
    "        if score_average_100epis >= 0.5 and not solved:\n",
    "            print('\\n*** Environment solved in {:d} episodes!\\tAverage Score: {:.2f} ***\\n'.format(\n",
    "                i_episode, score_average_100epis))\n",
    "            solved = True\n",
    "            save_weights(dir_chkpoints)\n",
    "            best_score = score_average_100epis\n",
    "            solved = True\n",
    "            break\n",
    "\n",
    "    return scores_total, scores_global\n",
    "\n",
    "dir_chkpoints = 'checkpoints'\n",
    "scores_total, scores_global = train(maddpg, env, dir_chkpoints, n_episodes=5000)"
   ]
  },
  {
   "cell_type": "markdown",
   "metadata": {},
   "source": [
    "### 5. Plot scores"
   ]
  },
  {
   "cell_type": "code",
   "execution_count": 8,
   "metadata": {},
   "outputs": [
    {
     "data": {
      "image/png": "[encoded data removed]",
      "text/plain": [
       "<matplotlib.figure.Figure at 0x7f856d828be0>"
      ]
     },
     "metadata": {
      "needs_background": "light"
     },
     "output_type": "display_data"
    },
    {
     "name": "stdout",
     "output_type": "stream",
     "text": [
      "len of scores_total:  2761 \n",
      "len of score_global:  2761\n"
     ]
    }
   ],
   "source": [
    "import matplotlib.pyplot as plt\n",
    "import numpy as np\n",
    "%matplotlib inline\n",
    "\n",
    "fig = plt.figure()\n",
    "ax = fig.add_subplot(111)\n",
    "\n",
    "plt.plot(np.arange(1, len(scores_total) + 1), scores_total, label=\"Max Score\")\n",
    "plt.plot(np.arange(1, len(scores_global) + 1), \n",
    "    scores_global, label=\"Avg on 100 episodes\") \n",
    "# This line indicates the score at which the environment is considered solved\n",
    "plt.axhline(y=0.5, color=\"r\",  label=\"Environment Solved\") \n",
    "\n",
    "plt.legend(bbox_to_anchor=(1.05, 1)) \n",
    "plt.ylabel(\"Score\")\n",
    "plt.xlabel(\"Episode # \")\n",
    "plt.show()\n",
    "\n",
    "print('len of scores_total: ', len(scores_total), '\\nlen of score_global: ',\\\n",
    "    len(scores_global))"
   ]
  },
  {
   "cell_type": "markdown",
   "metadata": {},
   "source": [
    "### 6. Watch Agent in action"
   ]
  },
  {
   "cell_type": "code",
   "execution_count": null,
   "metadata": {},
   "outputs": [],
   "source": [
    "def load(dir):    \n",
    "        for i in range(num_agents):\n",
    "            maddpg.agents[i].actor_local.load_state_dict(\n",
    "                torch.load(os.path.join(dir, 'checkpoint_actor_{}.pth'.format(i))) )\n",
    "            maddpg.agents[i].critic_local.load_state_dict(\n",
    "                torch.load(os.path.join(dir, 'checkpoint_critic_{}.pth'.format(i))) )\n",
    "\n",
    "\n",
    "def play(maddpg, env, num_games=11):\n",
    "    \"\"\"Tests the training results by having both agents play a match.\n",
    "    Params\n",
    "    ======\n",
    "        maddpg (MADDPG): instance of MADDPG wrapper class\n",
    "        env (UnityEnvironment): instance of Unity environment for testing\n",
    "        num_games (int): number of games to be played\n",
    "    \"\"\"\n",
    "    \n",
    "    print(\"Agent #0: Red racket\")\n",
    "    print(\"Agent #1: Blue racket\")\n",
    "    print(\"---------------------\")\n",
    "\n",
    "    game_scores = [0 for _ in range(num_agents)]\n",
    "\n",
    "    # Environment information\n",
    "    brain_name = env.brain_names[0]\n",
    "\n",
    "    for i_episode in range(1, num_games+1):\n",
    "        env_info = env.reset(train_mode=False)[brain_name]   \n",
    "        states = env_info.vector_observations\n",
    "        scores = np.zeros(num_agents)\n",
    "\n",
    "        t_step = 0\n",
    "        \n",
    "        while True:\n",
    "            actions = maddpg.act(states)\n",
    "\n",
    "            env_info = env.step(actions)[brain_name]\n",
    "            next_states = env_info.vector_observations\n",
    "            rewards = env_info.rewards\n",
    "            scores += rewards\n",
    "            dones = env_info.local_done\n",
    "            t_step += 1\n",
    "\n",
    "            if np.any(dones):\n",
    "                winner = np.argmax(scores)\n",
    "                game_scores[winner] += 1\n",
    "                if (t_step > 0):\n",
    "                    t_step -= 1\n",
    "                print('Game: {}, partial score: {},  Score #0: {:.2f}, Score #1: {:.2f}, Timesteps: {} '.\n",
    "                       format(i_episode, game_scores, scores[0], scores[1], t_step))\n",
    "                break\n",
    "\n",
    "            states = next_states\n",
    "\n",
    "    print(\"---------------------\")\n",
    "    print(\"Winner: Agent #{}\".format(np.argmax(game_scores)))"
   ]
  },
  {
   "cell_type": "code",
   "execution_count": null,
   "metadata": {},
   "outputs": [],
   "source": [
    "dir_chkpoints = 'checkpoints'\n",
    "load(dir_chkpoints)\n",
    "play(maddpg, env, num_games=5)"
   ]
  },
  {
   "cell_type": "code",
   "execution_count": 9,
   "metadata": {},
   "outputs": [],
   "source": [
    "env.close()"
   ]
  },
  {
   "cell_type": "code",
   "execution_count": null,
   "metadata": {},
   "outputs": [],
   "source": []
  }
 ],
 "metadata": {
  "kernelspec": {
   "display_name": "Python 3",
   "language": "python",
   "name": "python3"
  },
  "language_info": {
   "codemirror_mode": {
    "name": "ipython",
    "version": 3
   },
   "file_extension": ".py",
   "mimetype": "text/x-python",
   "name": "python",
   "nbconvert_exporter": "python",
   "pygments_lexer": "ipython3",
   "version": "3.6.10"
  }
 },
 "nbformat": 4,
 "nbformat_minor": 2
}
